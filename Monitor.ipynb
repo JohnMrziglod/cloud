{
 "cells": [
  {
   "cell_type": "code",
   "execution_count": 7,
   "metadata": {},
   "outputs": [],
   "source": [
    "%matplotlib inline\n",
    "\n",
    "import matplotlib.pyplot as plt\n",
    "import numpy as np\n",
    "import pandas as pd\n",
    "import xarray as xr\n",
    "\n",
    "import cloud"
   ]
  },
  {
   "cell_type": "code",
   "execution_count": 3,
   "metadata": {},
   "outputs": [
    {
     "data": {
      "text/plain": [
       "{'Ceilometer': Name:\tCeilometer\n",
       " Type:\tMulti-Files\n",
       " Files path:\t/Users/jm.mac.mobil/Data/MSM68-2/Ceilometer/data/{year}{month}{day}_FS_MERIAN_CHM090102.nc,\n",
       " 'DShip': Name:\tDShip\n",
       " Type:\tSingle-File\n",
       " Files path:\t/Users/jm.mac.mobil/Data/MSM68-2/DShip/cruise_data_20171102-20171113.txt,\n",
       " 'Dumbo-netcdf': Name:\tDumbo-netcdf\n",
       " Type:\tMulti-Files\n",
       " Files path:\t/Users/jm.mac.mobil/Data/MSM68-2/Dumbo/ThermalCam/netcdf/{year}/{month}/{day}/tm{year2}{month}{day}{hour}.nc,\n",
       " 'Dumbo-raw': Name:\tDumbo-raw\n",
       " Type:\tMulti-Files\n",
       " Files path:\t/Users/jm.mac.mobil/Data/MSM68-2/Dumbo/ThermalCam/{year2}{month}{day}ASC/*.asc,\n",
       " 'Dumbo-stats': Name:\tDumbo-stats\n",
       " Type:\tMulti-Files\n",
       " Files path:\t/Users/jm.mac.mobil/Data/MSM68-2/Dumbo/cloud_stats/{year}/{month}/{day}/tm{hour}-{end_hour}.nc,\n",
       " 'Pinocchio-archive': Name:\tPinocchio-archive\n",
       " Type:\tMulti-Files\n",
       " Files path:\t/Users/jm.mac.mobil/Data/MSM68-2/Pinocchio/ThermalCam/t{year2}{month}{day}.tgz,\n",
       " 'Pinocchio-netcdf': Name:\tPinocchio-netcdf\n",
       " Type:\tMulti-Files\n",
       " Files path:\t/Users/jm.mac.mobil/Data/MSM68-2/Pinocchio/ThermalCam/netcdf/{year}/{month}/{day}/tm{year2}{month}{day}{hour}.nc,\n",
       " 'Pinocchio-raw': Name:\tPinocchio-raw\n",
       " Type:\tMulti-Files\n",
       " Files path:\t/Users/jm.mac.mobil/Data/MSM68-2/Pinocchio/ThermalCam/t{year2}{month}{day}/tm{year2}{month}{day}{hour}{minute}{second}{millisecond}.jpg,\n",
       " 'Pinocchio-stats': Name:\tPinocchio-stats\n",
       " Type:\tMulti-Files\n",
       " Files path:\t/Users/jm.mac.mobil/Data/MSM68-2/Pinocchio/cloud_stats/{year}/{month}/{day}/tm{hour}-{end_hour}.nc,\n",
       " 'plots': Name:\tplots\n",
       " Type:\tMulti-Files\n",
       " Files path:\t/Users/jm.mac.mobil/Data/MSM68-2/plots/{plot}/{year}{month}{day}_{hour}{minute}-{end_year}{end_month}{end_day}_{end_hour}{end_minute}.png\n",
       " User placeholder:\t{'plot': '(?P<plot>.+?)'}}"
      ]
     },
     "execution_count": 3,
     "metadata": {},
     "output_type": "execute_result"
    }
   ],
   "source": [
    "config = cloud.load_config()\n",
    "filesets = cloud.load_filesets(config)\n",
    "filesets"
   ]
  },
  {
   "cell_type": "code",
   "execution_count": 28,
   "metadata": {},
   "outputs": [
    {
     "data": {
      "text/plain": [
       "<xarray.DataArray (time: 2, height: 10, width: 10)>\n",
       "array([[[ True,  True,  True,  True,  True,  True,  True,  True,  True,\n",
       "          True],\n",
       "        [ True,  True,  True,  True,  True,  True,  True,  True,  True,\n",
       "          True],\n",
       "        [ True,  True,  True,  True,  True, False, False, False, False,\n",
       "         False],\n",
       "        [False, False, False, False, False, False, False, False, False,\n",
       "         False],\n",
       "        [False, False, False, False, False, False, False, False, False,\n",
       "         False],\n",
       "        [False, False, False, False, False, False, False, False, False,\n",
       "         False],\n",
       "        [False, False, False, False, False, False, False, False, False,\n",
       "         False],\n",
       "        [False, False, False, False, False, False, False, False, False,\n",
       "         False],\n",
       "        [False, False, False, False, False, False, False, False, False,\n",
       "         False],\n",
       "        [False, False, False, False, False, False, False, False, False,\n",
       "         False]],\n",
       "\n",
       "       [[ True,  True,  True,  True,  True,  True,  True,  True,  True,\n",
       "          True],\n",
       "        [ True,  True,  True,  True,  True,  True,  True,  True,  True,\n",
       "          True],\n",
       "        [ True,  True,  True,  True,  True,  True,  True,  True,  True,\n",
       "          True],\n",
       "        [ True,  True,  True,  True,  True,  True,  True,  True,  True,\n",
       "          True],\n",
       "        [ True,  True,  True,  True,  True,  True,  True,  True,  True,\n",
       "          True],\n",
       "        [False, False, False, False, False, False, False, False, False,\n",
       "         False],\n",
       "        [False, False, False, False, False, False, False, False, False,\n",
       "         False],\n",
       "        [False, False, False, False, False, False, False, False, False,\n",
       "         False],\n",
       "        [False, False, False, False, False, False, False, False, False,\n",
       "         False],\n",
       "        [False, False, False, False, False, False, False, False, False,\n",
       "         False]]])\n",
       "Dimensions without coordinates: time, height, width"
      ]
     },
     "execution_count": 28,
     "metadata": {},
     "output_type": "execute_result"
    }
   ],
   "source": [
    "ds = xr.Dataset({\n",
    "    \"images\": ((\"time\", \"height\", \"width\"), np.arange(200).reshape(2, 10, 10))\n",
    "})\n",
    "mask = xr.DataArray(\n",
    "    np.arange(100).reshape(10, 10)>50, dims=(\"height\", \"width\"),\n",
    ")\n",
    "temp = xr.DataArray([25, 150], dims=\"time\")\n",
    "ds.images < temp"
   ]
  },
  {
   "cell_type": "code",
   "execution_count": 20,
   "metadata": {},
   "outputs": [
    {
     "data": {
      "text/plain": [
       "<xarray.DataArray (time: 4)>\n",
       "array([ 0, 10, 40, 30])\n",
       "Coordinates:\n",
       "  * time     (time) datetime64[ns] 2010-01-01 2010-01-01T01:00:00 ..."
      ]
     },
     "execution_count": 20,
     "metadata": {},
     "output_type": "execute_result"
    }
   ],
   "source": [
    "temp = xr.DataArray(\n",
    "    [0, 10, 40, 30], coords={\n",
    "        \"time\": pd.date_range(\"2010-01-01\", periods=4, freq=\"1h\")\n",
    "    }, dims=(\"time\")\n",
    ")\n",
    "temp.interpolate_na(dim=\"time\")"
   ]
  }
 ],
 "metadata": {
  "kernelspec": {
   "display_name": "Python 3",
   "language": "python",
   "name": "python3"
  }
 },
 "nbformat": 4,
 "nbformat_minor": 2
}
